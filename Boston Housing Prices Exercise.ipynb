{
 "cells": [
  {
   "cell_type": "code",
   "execution_count": 3,
   "metadata": {},
   "outputs": [],
   "source": [
    "#LOAD TENSORFLOW\n",
    "\n",
    "import tensorflow as tf"
   ]
  },
  {
   "cell_type": "code",
   "execution_count": 4,
   "metadata": {},
   "outputs": [],
   "source": [
    "#Reset Default graph - Needed only for Jupyter notebook\n",
    "\n",
    "tf.reset_default_graph()"
   ]
  },
  {
   "cell_type": "code",
   "execution_count": 5,
   "metadata": {},
   "outputs": [],
   "source": [
    "#COLLECT DATA\n",
    "\n",
    "from tensorflow.python.keras.datasets import boston_housing\n",
    "#load data\n",
    "(features,actual_prices),_=boston_housing.load_data(test_split=0)"
   ]
  },
  {
   "cell_type": "code",
   "execution_count": 6,
   "metadata": {},
   "outputs": [
    {
     "name": "stdout",
     "output_type": "stream",
     "text": [
      "Number of examples :  506\n",
      "Number of features for each examples :  13\n",
      "Shape of actual prices data :  (506,)\n"
     ]
    }
   ],
   "source": [
    "print('Number of examples : ',features.shape[0])\n",
    "print('Number of features for each examples : ',features.shape[1])\n",
    "print('Shape of actual prices data : ', actual_prices.shape)"
   ]
  },
  {
   "cell_type": "code",
   "execution_count": 10,
   "metadata": {
    "scrolled": true
   },
   "outputs": [],
   "source": [
    "#BUILDING THE GRAPH\n",
    "#Define input data placeholders\n",
    "\n",
    "#Input features\n",
    "x = tf.placeholder(shape =[None , 13], dtype = tf.float32, name = 'x-input')\n",
    "\n",
    "#Normalize the data\n",
    "x_n  = tf.nn.l2_normalize(x,1)\n",
    "\n",
    "#Actual Prices\n",
    "y_ = tf.placeholder(shape = [None],dtype = tf.float32, name='y-input')\n",
    "\n"
   ]
  },
  {
   "cell_type": "code",
   "execution_count": 11,
   "metadata": {},
   "outputs": [],
   "source": [
    "#Define weight and bias\n",
    "w = tf.Variable(tf.zeros(shape=[13,1]), name ='weights')\n",
    "b = tf.Variable(tf.zeros(shape=[1]), name = 'bias')"
   ]
  },
  {
   "cell_type": "code",
   "execution_count": 12,
   "metadata": {},
   "outputs": [],
   "source": [
    "#Prediction\n",
    "#We will use normalized data\n",
    "\n",
    "y = tf.add(tf.matmul(x_n,w),b,name='output')"
   ]
  },
  {
   "cell_type": "code",
   "execution_count": 13,
   "metadata": {},
   "outputs": [],
   "source": [
    "#LOSS / COST FUNCTION\n",
    "\n",
    "loss = tf.reduce_mean(tf.square(y-y_),name = 'loss')"
   ]
  },
  {
   "cell_type": "code",
   "execution_count": 14,
   "metadata": {},
   "outputs": [],
   "source": [
    "#Gradient Descent Optimizer\n",
    "\n",
    "train_op = tf.train.GradientDescentOptimizer(0.03).minimize(loss)\n"
   ]
  },
  {
   "cell_type": "code",
   "execution_count": 21,
   "metadata": {},
   "outputs": [],
   "source": [
    "#EXECUTING GRAPH\n",
    "sess = tf.Session()\n",
    "#variable need to be initialized before we can use them\n",
    "sess.run(tf.global_variables_initializer())\n",
    "#how many times data need to be shown to model\n",
    "training_epochs = 100"
   ]
  },
  {
   "cell_type": "code",
   "execution_count": 22,
   "metadata": {},
   "outputs": [
    {
     "name": "stdout",
     "output_type": "stream",
     "text": [
      "Training loss at step :  0 is 592.12036\n",
      "Training loss at step :  10 is 128.12592\n",
      "Training loss at step :  20 is 88.48478\n",
      "Training loss at step :  30 is 85.08909\n",
      "Training loss at step :  40 is 84.78946\n",
      "Training loss at step :  50 is 84.75502\n",
      "Training loss at step :  60 is 84.74391\n",
      "Training loss at step :  70 is 84.73506\n",
      "Training loss at step :  80 is 84.7273\n",
      "Training loss at step :  90 is 84.72013\n"
     ]
    }
   ],
   "source": [
    "for epoch in range(training_epochs):\n",
    "    #calculate train_op and loss\n",
    "    _,train_loss = sess.run([train_op,loss],feed_dict={x:features,y_:actual_prices})\n",
    "    if epoch%10==0:\n",
    "        print('Training loss at step : ',epoch,'is',train_loss)"
   ]
  },
  {
   "cell_type": "code",
   "execution_count": 23,
   "metadata": {},
   "outputs": [],
   "source": [
    "sess.close()"
   ]
  },
  {
   "cell_type": "code",
   "execution_count": null,
   "metadata": {},
   "outputs": [],
   "source": []
  }
 ],
 "metadata": {
  "kernelspec": {
   "display_name": "Python 3",
   "language": "python",
   "name": "python3"
  },
  "language_info": {
   "codemirror_mode": {
    "name": "ipython",
    "version": 3
   },
   "file_extension": ".py",
   "mimetype": "text/x-python",
   "name": "python",
   "nbconvert_exporter": "python",
   "pygments_lexer": "ipython3",
   "version": "3.6.8"
  }
 },
 "nbformat": 4,
 "nbformat_minor": 2
}
